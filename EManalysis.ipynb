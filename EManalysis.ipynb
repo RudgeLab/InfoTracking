{
 "cells": [
  {
   "cell_type": "code",
   "execution_count": null,
   "metadata": {},
   "outputs": [],
   "source": [
    "import numpy as np\n",
    "from scipy import ndimage\n",
    "import matplotlib.pyplot as plt\n",
    "%matplotlib inline"
   ]
  },
  {
   "cell_type": "code",
   "execution_count": null,
   "metadata": {},
   "outputs": [],
   "source": [
    "pos = np.fromfile(open('/Users/timrudge/Code/InfoTracking/pos.np','rt'), sep=',')\n",
    "ll = np.fromfile(open('/Users/timrudge/Code/InfoTracking/ll.np','rt'), sep=',')"
   ]
  },
  {
   "cell_type": "code",
   "execution_count": null,
   "metadata": {},
   "outputs": [],
   "source": [
    "print pos.shape\n",
    "print ll.shape\n",
    "17*29*20*2"
   ]
  },
  {
   "cell_type": "code",
   "execution_count": null,
   "metadata": {},
   "outputs": [],
   "source": [
    "pos = pos.reshape((35,35,10,2))\n",
    "ll = ll.reshape((35,35,10,15,15))"
   ]
  },
  {
   "cell_type": "code",
   "execution_count": null,
   "metadata": {},
   "outputs": [],
   "source": [
    "plt.figure()\n",
    "H = ll[11,15,5,:,:]\n",
    "plt.imshow(H)\n",
    "dHdy,dHdx = np.gradient(H)\n",
    "plt.quiver(-dHdx,dHdy)"
   ]
  },
  {
   "cell_type": "code",
   "execution_count": null,
   "metadata": {},
   "outputs": [],
   "source": [
    "H = np.max(ll[:,:,1:,:,:],axis=(3,4))\n",
    "plt.imshow(H[13:24,12:24,-1])\n",
    "plt.colorbar()\n",
    "\n",
    "v = pos[:,:,1:,:] - pos[:,:,:-1,:]\n",
    "vmag = np.sqrt(v[:,:,:,0]**2 + v[:,:,:,1]**2)\n",
    "plt.figure()\n",
    "plt.plot(H.ravel(),vmag.ravel(),'.')\n",
    "#plt.colorbar()\n",
    "\n",
    "R = np.sqrt((pos[:,:,1:,0]-pos[:,:,1:,0].mean())**2 + (pos[:,:,1:,1]-pos[:,:,1:,1].mean())**2)\n",
    "plt.figure()\n",
    "plt.plot(R[:,:,4].ravel(), H[:,:,4].ravel(), '.')\n",
    "plt.plot(R[:,:,4].ravel(), vmag[:,:,4].ravel(), '.')\n",
    "#plt.ylim(0,-3)\n",
    "\n",
    "plt.figure()\n",
    "plt.plot(H[11,13,:])\n",
    "plt.ylim(0,-3)\n",
    "#plt.plot(H.reshape((35*35,9)).transpose())"
   ]
  },
  {
   "cell_type": "code",
   "execution_count": null,
   "metadata": {},
   "outputs": [],
   "source": [
    "pos = pos.reshape((35*35,10,2))\n",
    "ll = ll.reshape((35*35,10,15,15))"
   ]
  },
  {
   "cell_type": "code",
   "execution_count": null,
   "metadata": {},
   "outputs": [],
   "source": [
    "idx = np.random.uniform(0,35*35,size=(4,1)).astype(np.int)\n",
    "idx=[355]\n",
    "#idx = np.where(pos[idx,:,0]<)\n",
    "plt.figure(figsize=(12,12))\n",
    "plt.plot(pos[:,0:-1,1].squeeze().transpose(),pos[:,0:-1,0].squeeze().transpose(),'.-')\n",
    "plt.plot(pos[:,-1,1].squeeze().transpose(),pos[:,-1,0].squeeze().transpose(),'kx')\n",
    "#im = plt.imread('/Users/timrudge/CavendishMicroscopy/10.01.16/Pos0000/Frame0/Frame0000_regStep%04d.tif'%200).astype(np.float32)\n",
    "im = plt.imread('/Users/timrudge/cellmodeller/data/weiner-17-12-07-17-56/step-%05d.jpg'%230).astype(np.float32)\n",
    "plt.imshow(im)\n",
    "plt.axis('equal')\n",
    "\n",
    "print idx\n",
    "plt.legend(idx)\n",
    "\n",
    "#plt.figure()\n",
    "#ll = ll.reshape((17*29,50,15,15))\n",
    "#plt.imshow(ll[400,1,:,:])\n"
   ]
  },
  {
   "cell_type": "code",
   "execution_count": null,
   "metadata": {},
   "outputs": [],
   "source": [
    "#im1 = plt.imread('/Users/timrudge/CavendishMicroscopy/10.01.16/Pos0000/Frame0/Frame0000_regStep%04d.tif'%250).astype(np.float32)\n",
    "im1 = plt.imread('/Users/timrudge/cellmodeller/data/weiner-17-12-07-17-56/step-%05d.jpg'%180).astype(np.float32)\n",
    "#im2 = plt.imread('/Users/timrudge/CavendishMicroscopy/10.01.16/Pos0000/Frame0/Frame0000_regStep%04d.tif'%150).astype(np.float32)\n",
    "im2 = plt.imread('/Users/timrudge/cellmodeller/data/weiner-17-12-07-17-56/step-%05d.jpg'%150).astype(np.float32)\n",
    "w,h = im1.shape\n",
    "plt.figure(figsize=(18,18))\n",
    "rgb = np.zeros(im1.shape+(3,))\n",
    "rgb[:,:,0] = im1/np.max(im1, axis=(0,1))\n",
    "rgb[:,:,1] = im2/np.max(im2, axis=(0,1))\n",
    "#plt.imshow(im1)\n",
    "#plt.plot(pos[:,0:-1:5,1].transpose(),pos[:,0:-1:5,0].transpose(),'.-')\n",
    "#plt.plot(pos[:,-1,1].transpose(),pos[:,-1,0].transpose(),'wx')\n",
    "\n",
    "\n",
    "print np.max(im2, axis=(0,1))\n",
    "_,nt,_ = pos.shape\n",
    "for t in range(1,nt):\n",
    "    plt.figure(figsize=(12,12))\n",
    "    im1 = plt.imread('/Users/timrudge/cellmodeller/data/weiner-17-12-07-17-56/step-%05d.jpg'%((nt-t)*2+150)).astype(np.float32)\n",
    "    im2 = plt.imread('/Users/timrudge/cellmodeller/data/weiner-17-12-07-17-56/step-%05d.jpg'%((nt-t-1)*2+150)).astype(np.float32)\n",
    "\n",
    "    #im1 = plt.imread('/Users/timrudge/CavendishMicroscopy/10.01.16/Pos0000/Frame0/Frame0000_regStep%04d.tif'%((nt-t)*2+100)).astype(np.float32)\n",
    "    #im2 = plt.imread('/Users/timrudge/CavendishMicroscopy/10.01.16/Pos0000/Frame0/Frame0000_regStep%04d.tif'%((nt-t-1)*2+100)).astype(np.float32)\n",
    "\n",
    "    plt.subplot(1,2,1)\n",
    "    \n",
    "    plt.imshow(im1)\n",
    "    '''\n",
    "    px = pos[:,:,t,1]\n",
    "    py = pos[:,:,t,0]\n",
    "    vy = pos[:,:,t+1,1]-pos[:,:,t,1]\n",
    "    vx = pos[:,:,t+1,0]-pos[:,:,t,0]\n",
    "    '''\n",
    "    #plt.plot([pos[:,t,1],pos[:,t-1,1]],[pos[:,t,0],pos[:,t-1,0]], 'r-')\n",
    "    vel = pos[:,t,:]-pos[:,t-1,:]\n",
    "    mvel = np.sqrt(vel[:,0]**2 + vel[:,1]**2)\n",
    "    idx = np.where(mvel>=0)\n",
    "    \n",
    "    plt.title(np.max(mvel))\n",
    "    #plt.plot(pos[idx,t,1],pos[idx,t,0], 'r.')\n",
    "    plt.quiver(pos[idx,t,1], pos[idx,t,0], -vel[idx,1], vel[idx,0], scale=100) #0.00001,0.00001)\n",
    "    \n",
    "    plt.subplot(1,2,2)\n",
    "    plt.imshow(im2)\n",
    "    plt.plot(pos[idx,t-1,1],pos[idx,t-1,0], 'r.')\n",
    "\n",
    "    plt.savefig('plotim%4d.png'%t)\n",
    "    \n",
    "    #, scale=0.001)\n",
    "    \n"
   ]
  },
  {
   "cell_type": "code",
   "execution_count": null,
   "metadata": {},
   "outputs": [],
   "source": [
    "roi = np.fromfile(open('/Users/timrudge/Code/InfoTracking/roi.np','rt'), sep=',')\n",
    "print roi.shape\n",
    "print 64*64*20*17*29"
   ]
  },
  {
   "cell_type": "code",
   "execution_count": null,
   "metadata": {},
   "outputs": [],
   "source": [
    "roi = roi.reshape((17,29,50,64,64))"
   ]
  },
  {
   "cell_type": "code",
   "execution_count": null,
   "metadata": {},
   "outputs": [],
   "source": [
    "pos = pos.reshape((17,29,20,2))\n",
    "for t in range(20):\n",
    "    plt.figure()\n",
    "    plt.imshow(roi[11,14,t,:,:])\n",
    "    print pos[11,14,t,:]"
   ]
  },
  {
   "cell_type": "code",
   "execution_count": null,
   "metadata": {},
   "outputs": [],
   "source": []
  }
 ],
 "metadata": {
  "kernelspec": {
   "display_name": "Python 3",
   "language": "python",
   "name": "python3"
  },
  "language_info": {
   "codemirror_mode": {
    "name": "ipython",
    "version": 3
   },
   "file_extension": ".py",
   "mimetype": "text/x-python",
   "name": "python",
   "nbconvert_exporter": "python",
   "pygments_lexer": "ipython3",
   "version": "3.6.5"
  }
 },
 "nbformat": 4,
 "nbformat_minor": 2
}

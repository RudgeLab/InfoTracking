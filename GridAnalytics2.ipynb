{
 "cells": [
  {
   "cell_type": "code",
   "execution_count": 1,
   "metadata": {},
   "outputs": [],
   "source": [
    "import PickleVelocity as PV\n",
    "import EM as EM\n",
    "import plotting as pt\n",
    "%matplotlib inline"
   ]
  },
  {
   "cell_type": "code",
   "execution_count": null,
   "metadata": {},
   "outputs": [],
   "source": []
  },
  {
   "cell_type": "code",
   "execution_count": 2,
   "metadata": {},
   "outputs": [
    {
     "name": "stdout",
     "output_type": "stream",
     "text": [
      "worldsize =  250.0\n",
      "imagesize =  2362\n",
      "resizing factor =  9.448\n",
      "Skipped 366 ids, which should match this number: -183\n",
      "Skipped 396 ids, which should match this number: -198\n",
      "Skipped 324 ids, which should match this number: -162\n",
      "Skipped 294 ids, which should match this number: -147\n",
      "Skipped 332 ids, which should match this number: -166\n",
      "Skipped 334 ids, which should match this number: -167\n",
      "Skipped 330 ids, which should match this number: -165\n",
      "Skipped 392 ids, which should match this number: -196\n",
      "Skipped 346 ids, which should match this number: -173\n",
      "Skipped 312 ids, which should match this number: -156\n",
      "Skipped 334 ids, which should match this number: -167\n",
      "Skipped 326 ids, which should match this number: -163\n",
      "Skipped 266 ids, which should match this number: -133\n",
      "Skipped 314 ids, which should match this number: -157\n",
      "Skipped 320 ids, which should match this number: -160\n",
      "Skipped 292 ids, which should match this number: -146\n",
      "Skipped 314 ids, which should match this number: -157\n",
      "Skipped 324 ids, which should match this number: -162\n",
      "Skipped 286 ids, which should match this number: -143\n",
      "Skipped 240 ids, which should match this number: -120\n",
      "Skipped 252 ids, which should match this number: -126\n",
      "Skipped 278 ids, which should match this number: -139\n",
      "Skipped 294 ids, which should match this number: -147\n",
      "Skipped 238 ids, which should match this number: -119\n",
      "Skipped 288 ids, which should match this number: -144\n",
      "Skipped 226 ids, which should match this number: -113\n",
      "Skipped 260 ids, which should match this number: -130\n",
      "Skipped 204 ids, which should match this number: -102\n",
      "Skipped 278 ids, which should match this number: -139\n",
      "Done calculating velocities\n",
      "Grid dimensions:  36 36\n",
      "There are 0 cells in the gaps between grid cells in step 0\n",
      "There are 5 cells in the gaps between grid cells in step 1\n",
      "There are 4 cells in the gaps between grid cells in step 2\n",
      "There are 3 cells in the gaps between grid cells in step 3\n",
      "There are 2 cells in the gaps between grid cells in step 4\n",
      "There are 2 cells in the gaps between grid cells in step 5\n",
      "There are 7 cells in the gaps between grid cells in step 6\n",
      "There are 7 cells in the gaps between grid cells in step 7\n",
      "There are 7 cells in the gaps between grid cells in step 8\n",
      "There are 6 cells in the gaps between grid cells in step 9\n",
      "There are 5 cells in the gaps between grid cells in step 10\n",
      "There are 5 cells in the gaps between grid cells in step 11\n",
      "There are 4 cells in the gaps between grid cells in step 12\n",
      "There are 4 cells in the gaps between grid cells in step 13\n",
      "There are 5 cells in the gaps between grid cells in step 14\n",
      "There are 5 cells in the gaps between grid cells in step 15\n",
      "There are 3 cells in the gaps between grid cells in step 16\n",
      "There are 3 cells in the gaps between grid cells in step 17\n",
      "There are 4 cells in the gaps between grid cells in step 18\n",
      "There are 4 cells in the gaps between grid cells in step 19\n",
      "There are 3 cells in the gaps between grid cells in step 20\n",
      "There are 4 cells in the gaps between grid cells in step 21\n",
      "There are 4 cells in the gaps between grid cells in step 22\n",
      "There are 3 cells in the gaps between grid cells in step 23\n",
      "There are 3 cells in the gaps between grid cells in step 24\n",
      "There are 3 cells in the gaps between grid cells in step 25\n",
      "There are 3 cells in the gaps between grid cells in step 26\n",
      "There are 3 cells in the gaps between grid cells in step 27\n",
      "There are 2 cells in the gaps between grid cells in step 28\n",
      "Done\n"
     ]
    }
   ],
   "source": [
    "fname = \"/Users/timrudge/cellmodeller/data/weiner-17-12-07-17-56/step-%05d.png\"\n",
    "startframe = 200\n",
    "nframes = 30\n",
    "dt = 2 #There's a bit of trouble with this\n",
    "gridfactor = 64 #pixels per grid\n",
    "gridPV,gridstuff,velpos,imgs = PV.main(fname,startframe,nframes,dt,gridfactor,forwards = False, GridMethod = 1)"
   ]
  },
  {
   "cell_type": "code",
   "execution_count": null,
   "metadata": {},
   "outputs": [],
   "source": [
    "gx,gy,dgx,dgy = gridstuff[0],gridstuff[1],gridstuff[2],gridstuff[3]"
   ]
  },
  {
   "cell_type": "code",
   "execution_count": null,
   "metadata": {},
   "outputs": [],
   "source": [
    "gridEM = EM.main(fname,startframe,nframes,dt,gridfactor, forwards = False, GridMethod = 1) #Grid Method 2 not ready yet"
   ]
  },
  {
   "cell_type": "code",
   "execution_count": null,
   "metadata": {},
   "outputs": [],
   "source": [
    "import matplotlib.pyplot as plt\n",
    "plt.rcParams['figure.figsize'] = (16,8)\n",
    "%matplotlib notebook\n",
    "#pt.plotter(nframes,gridPV,gridstuff,velpos, imgs)"
   ]
  },
  {
   "cell_type": "code",
   "execution_count": null,
   "metadata": {},
   "outputs": [],
   "source": [
    "import matplotlib.pyplot as plt\n",
    "plt.rcParams['figure.figsize'] = (16,8)\n",
    "%matplotlib notebook\n",
    "#pt.plotter(nframes,gridEM,gridstuff,velpos, imgs)"
   ]
  },
  {
   "cell_type": "code",
   "execution_count": null,
   "metadata": {},
   "outputs": [],
   "source": [
    "import numpy as np\n",
    "deltagrid = np.zeros((nframes,gx,gy,5,2))\n",
    "for frame in range(nframes):\n",
    "    for ix in range(gridstuff[0]):\n",
    "        for iy in range(gridstuff[1]):\n",
    "            if gridPV[frame,ix,iy,2] != 0 and gridEM[frame,ix,iy,2] != 0: #Checks that both grids move to compare\n",
    "                deltagrid[frame,ix,iy,0] = [gridPV[frame,ix,iy,0],gridEM[frame,ix,iy,0]]\n",
    "                deltagrid[frame,ix,iy,1] = [gridPV[frame,ix,iy,1],gridEM[frame,ix,iy,1]]\n",
    "                deltagrid[frame,ix,iy,2] = 1\n",
    "                deltagrid[frame,ix,iy,3] = [gridPV[frame,ix,iy,3],gridEM[frame,ix,iy,3]]\n",
    "                deltagrid[frame,ix,iy,4] = [gridPV[frame,ix,iy,4],gridEM[frame,ix,iy,4]]"
   ]
  },
  {
   "cell_type": "code",
   "execution_count": null,
   "metadata": {},
   "outputs": [],
   "source": [
    "imgs[0,0,0].shape()"
   ]
  },
  {
   "cell_type": "code",
   "execution_count": null,
   "metadata": {},
   "outputs": [],
   "source": [
    "import numpy as np\n",
    "import matplotlib.pyplot as plt\n",
    "%matplotlib inline\n",
    "plt.figure(figsize=(12,12))\n",
    "plt.rcParams['figure.figsize'] = (12,12)\n",
    "C= 2360/2\n",
    "#plt.plot([0,250],[0,250],\"k--\",markersize = 0.3)\n",
    "errlist = []\n",
    "for element in deltagrid:\n",
    "    for ix in range(23,24):\n",
    "        for iy in range(16,17):\n",
    "            if element[ix,iy,2,0] != 0:\n",
    "                plt.plot(element[ix,iy,3,1], element[ix,iy,4,1], 'k+')\n",
    "                plt.plot((element[ix,iy,3,0]), (element[ix,iy,4,0]), 'rx')\n",
    "                #plt.plot([(element[ix,iy,3,0]),element[ix,iy,3,1]], [(element[ix,iy,4,0]),element[ix,iy,4,1]], '+--')\n",
    "                #plt.plot(np.sqrt((element[ix,iy,3,0]-C)**2+(element[ix,iy,4,0]-C)**2),np.sqrt((element[ix,iy,3,1]-C)**2+(element[ix,iy,4,1]-C)**2),\"o\", markersize = 1.2)\n",
    "                err = np.sqrt((element[ix,iy,0,0]-element[ix,iy,0,1])**2+(element[ix,iy,1,0]-element[ix,iy,1,1])**2)\n",
    "                #err = err/np.sqrt(element[ix,iy,3,0]**2 + element[ix,iy,3,1]**2)\n",
    "                errlist.append(err) "
   ]
  },
  {
   "cell_type": "code",
   "execution_count": null,
   "metadata": {},
   "outputs": [],
   "source": [
    "\n",
    "%matplotlib inline\n",
    "plt.hist(errlist, bins=128)\n",
    "print len(errlist)\n"
   ]
  },
  {
   "cell_type": "code",
   "execution_count": null,
   "metadata": {},
   "outputs": [],
   "source": [
    "import numpy as np\n",
    "import matplotlib.pyplot as plt\n",
    "plt.rcParams['figure.figsize'] = (10,5)\n",
    "%matplotlib notebook\n",
    "C= 2360/2\n",
    "#plt.hlines(1,0.99,1.01,'r')\n",
    "#plt.vlines(1,0.99,1.01,'r')\n",
    "err = np.zeros((nframes,gx,gy))\n",
    "for element in deltagrid:\n",
    "    for ix in range(gx):\n",
    "        for iy in range(gy):\n",
    "            if element[ix,iy,2,0] != 0:\n",
    "                err = np.append(err,((element[ix,iy,3,0]-element[ix,iy,3,1])**2+(element[ix,iy,4,0]-element[ix,iy,4,1])**2)/np.sqrt(element[ix,iy,3,0]**2+element[ix,iy,4,0]**2))\n",
    "bines = np.arange(0,0.002,0.0005)\n",
    "plt.hist(err.ravel())#,bins=16,normed=True)\n",
    "print max(err)"
   ]
  },
  {
   "cell_type": "code",
   "execution_count": null,
   "metadata": {},
   "outputs": [],
   "source": [
    "plt.show()"
   ]
  },
  {
   "cell_type": "code",
   "execution_count": null,
   "metadata": {},
   "outputs": [],
   "source": []
  }
 ],
 "metadata": {
  "kernelspec": {
   "display_name": "Python 2",
   "language": "python",
   "name": "python2"
  },
  "language_info": {
   "codemirror_mode": {
    "name": "ipython",
    "version": 2
   },
   "file_extension": ".py",
   "mimetype": "text/x-python",
   "name": "python",
   "nbconvert_exporter": "python",
   "pygments_lexer": "ipython2",
   "version": "2.7.14"
  }
 },
 "nbformat": 4,
 "nbformat_minor": 2
}

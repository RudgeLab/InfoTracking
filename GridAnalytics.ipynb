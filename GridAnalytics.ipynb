{
 "cells": [
  {
   "cell_type": "code",
   "execution_count": null,
   "metadata": {},
   "outputs": [],
   "source": [
    "import PickleVelocity as PV\n",
    "import EM as EM\n",
    "import plotting as pt\n",
    "%matplotlib inline"
   ]
  },
  {
   "cell_type": "code",
   "execution_count": null,
   "metadata": {
    "scrolled": true
   },
   "outputs": [],
   "source": [
    "#fname = \"/Users/Ignacio/cellmodeller/data/Tutorial_1a-18-04-10-17-59/step-%04d0.png\"\n",
    "fname = \"/Users/timrudge/cellmodeller/data/weiner-17-12-07-17-56/step-%05d.png\"\n",
    "#fname = \"/Users/timrudge/cellmodeller/data/ex1_simpleGrowth-18-05-27-01-11/step-%05d.png\"\n",
    "startframe = 200\n",
    "nframes = 2\n",
    "dt = 2 #There's a bit of trouble with this\n",
    "gridfactor = 64 #pixels per grid\n",
    "#gridPV,gridstuff,velpos,imgs = PV.main(fname,startframe,nframes,dt,gridfactor,forwards = False, GridMethod = 1)"
   ]
  },
  {
   "cell_type": "code",
   "execution_count": null,
   "metadata": {
    "scrolled": false
   },
   "outputs": [],
   "source": [
    "gridEM = EM.main(fname,startframe,nframes,dt,gridfactor, forwards = False, GridMethod = 1) #Grid Method 2 not ready yet"
   ]
  },
  {
   "cell_type": "code",
   "execution_count": null,
   "metadata": {},
   "outputs": [],
   "source": [
    "import matplotlib.pyplot as plt\n",
    "plt.rcParams['figure.figsize'] = (16,8)\n",
    "%matplotlib notebook\n",
    "pt.plotter(nframes,gridPV,gridstuff,velpos, imgs)"
   ]
  },
  {
   "cell_type": "code",
   "execution_count": null,
   "metadata": {},
   "outputs": [],
   "source": [
    "import matplotlib.pyplot as plt\n",
    "plt.rcParams['figure.figsize'] = (16,8)\n",
    "%matplotlib notebook\n",
    "pt.plotter(nframes,gridEM,gridstuff,velpos, imgs)"
   ]
  },
  {
   "cell_type": "code",
   "execution_count": null,
   "metadata": {},
   "outputs": [],
   "source": [
    "import numpy as np\n",
    "deltagrid = np.zeros((nframes,gridstuff[0],gridstuff[1],5,2))\n",
    "for frame in range(nframes):\n",
    "    for ix in range(gridstuff[0]):\n",
    "        for iy in range(gridstuff[1]):\n",
    "            if gridPV[frame,ix,iy,2] != 0 and gridEM[frame,ix,iy,2] != 0: #Checks that both grids move to compare\n",
    "                deltagrid[frame,ix,iy,0] = [gridPV[frame,ix,iy,0],gridEM[frame,ix,iy,0]]\n",
    "                deltagrid[frame,ix,iy,1] = [gridPV[frame,ix,iy,1],gridEM[frame,ix,iy,1]]\n",
    "                deltagrid[frame,ix,iy,2] = 1\n",
    "                deltagrid[frame,ix,iy,3] = [gridPV[frame,ix,iy,3],gridEM[frame,ix,iy,3]]\n",
    "                deltagrid[frame,ix,iy,4] = [gridPV[frame,ix,iy,4],gridEM[frame,ix,iy,4]]"
   ]
  },
  {
   "cell_type": "code",
   "execution_count": null,
   "metadata": {},
   "outputs": [],
   "source": [
    "import numpy as np\n",
    "import matplotlib.pyplot as plt\n",
    "plt.rcParams['figure.figsize'] = (16,8)\n",
    "%matplotlib notebook\n",
    "for element in deltagrid:\n",
    "    for ix in range(gridstuff[0]):\n",
    "        for iy in range(gridstuff[1]):\n",
    "            if deltagrid[frame,ix,iy,2,0] != 1:\n",
    "                plt.plot(element[ix,iy,3,0],element[ix,iy,4,0],\"bo\")\n",
    "                plt.plot(element[ix,iy,3,1],element[ix,iy,4,1],\"ko\")\n",
    "plt.show()\n"
   ]
  },
  {
   "cell_type": "code",
   "execution_count": null,
   "metadata": {},
   "outputs": [],
   "source": []
  }
 ],
 "metadata": {
  "kernelspec": {
   "display_name": "Python 2",
   "language": "python",
   "name": "python2"
  },
  "language_info": {
   "codemirror_mode": {
    "name": "ipython",
    "version": 2
   },
   "file_extension": ".py",
   "mimetype": "text/x-python",
   "name": "python",
   "nbconvert_exporter": "python",
   "pygments_lexer": "ipython2",
   "version": "2.7.14"
  }
 },
 "nbformat": 4,
 "nbformat_minor": 2
}
